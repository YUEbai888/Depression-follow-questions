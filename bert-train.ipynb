{
 "cells": [
  {
   "cell_type": "code",
   "execution_count": 2,
   "metadata": {},
   "outputs": [
    {
     "name": "stderr",
     "output_type": "stream",
     "text": [
      "The `xla_device` argument has been deprecated in v4.4.0 of Transformers. It is ignored and you can safely remove it from your `config.json` file.\n",
      "The `xla_device` argument has been deprecated in v4.4.0 of Transformers. It is ignored and you can safely remove it from your `config.json` file.\n",
      "The `xla_device` argument has been deprecated in v4.4.0 of Transformers. It is ignored and you can safely remove it from your `config.json` file.\n",
      "The `xla_device` argument has been deprecated in v4.4.0 of Transformers. It is ignored and you can safely remove it from your `config.json` file.\n"
     ]
    }
   ],
   "source": [
    "from transformers import AutoTokenizer, AutoModelForSeq2SeqLM\n",
    "model_name = 't5'\n",
    "tokenizer = AutoTokenizer.from_pretrained(model_name)\n",
    "model = AutoModelForSeq2SeqLM.from_pretrained(model_name)\n"
   ]
  },
  {
   "cell_type": "code",
   "execution_count": 3,
   "metadata": {},
   "outputs": [],
   "source": [
    "import json\n",
    "with open('./dataset/primate_dataset.json', 'r', encoding='utf-8') as f:\n",
    "    data = json.load(f)"
   ]
  },
  {
   "cell_type": "code",
   "execution_count": 4,
   "metadata": {},
   "outputs": [
    {
     "data": {
      "text/plain": [
       "2003"
      ]
     },
     "execution_count": 4,
     "metadata": {},
     "output_type": "execute_result"
    }
   ],
   "source": [
    "len(data)"
   ]
  },
  {
   "cell_type": "code",
   "execution_count": 4,
   "metadata": {},
   "outputs": [],
   "source": [
    "import pandas as pd\n",
    "\n",
    "# 读取Excel文件\n",
    "df = pd.read_excel('./dataset/143map.xlsx')\n",
    "\n"
   ]
  },
  {
   "cell_type": "code",
   "execution_count": 7,
   "metadata": {},
   "outputs": [
    {
     "name": "stdout",
     "output_type": "stream",
     "text": [
      "['How often have you been bothered by feeling bad about yourself - that you are a failure or have let yourself or your family down?', 'Bothered by feeling down, depressed, or hopeless?', 'How often have you been bothered by feeling tired or having little energy?', 'How often have you been bothered by little interest or pleasure in doing things?', 'How often have you been bothered by moving or speaking so slowly that other people could have noticed? Or the opposite — being so fidgety or restless that you have been moving around a lot more than usual?', 'How often have you been bothered by poor appetite or overeating?', 'How often have you been bothered by thoughts that you would be better off dead or of hurting yourself in some way', 'How often have you been bothered by trouble concentrating while reading newspaper or watching television?', 'Have been bothered by trouble falling or staying asleep, or sleeping too much?']\n"
     ]
    }
   ],
   "source": [
    "print(df.columns.tolist())"
   ]
  },
  {
   "cell_type": "code",
   "execution_count": 5,
   "metadata": {},
   "outputs": [],
   "source": [
    "result_dict = {col: df[col].dropna().tolist() for col in df.columns}"
   ]
  },
  {
   "cell_type": "code",
   "execution_count": null,
   "metadata": {},
   "outputs": [],
   "source": [
    "result_dict = {col: df[col].dropna().tolist() for col in df.columns}"
   ]
  },
  {
   "cell_type": "code",
   "execution_count": 11,
   "metadata": {},
   "outputs": [],
   "source": [
    "# 将result_dict保存为JSON文件\n",
    "with open('./dataset/questions143_map_number.json', 'w', encoding='utf-8') as f:\n",
    "    json.dump(result_dict, f, ensure_ascii=False, indent=4)"
   ]
  },
  {
   "cell_type": "code",
   "execution_count": 10,
   "metadata": {},
   "outputs": [
    {
     "name": "stdout",
     "output_type": "stream",
     "text": [
      "{'1': ['Do you feel good about yourself?', 'Do you ever feel like a failure?', 'Do you feel like you are letting yourself down?', 'Do you feel like you have let your family down?', 'Do you have accomplishments that you are proud of?', 'How long have you struggled with feeling bad about yourself?', 'Do you wonder why you feel bad about yourself?', 'Why do you think people feel bad about themselves?', 'How do you feel when you are feeling bad?', 'Do you feel guilty everytime you spend money?', 'How do you express bad feelings to others when you do?', 'Does any person in your life make you feel bad?', 'Do you think it is okay to buy things for yourself?', 'Do you put yourself first when you make decisions?', 'Do you feel like you can survive a failure in life?', 'What do you think makes you a failure?', 'Does failure to achieve your goals affect you significantly?', 'Do you feel like it is okay to fail sometimes?', 'What do you feel is your greatest failure in recent times?', 'Do you feel like experiencing failure can help you succeed better?', 'Do you feel like you need to be comfortable with failure?', 'Do you believe that humans very often fail before succeeding?', 'How does failure affect you exactly?', 'Do you feel estranged from your parents?', 'Do you have toxic parents that affect your emotions?', 'Do you feel deeply dissapointed in yourself?', 'Do you feel like you need to cut ties with your family?'], '2': ['Do you think you might be depressed?', 'Do you feel sad a lot of the time?', 'Do you ever feel hopeless?', 'Do you have hope?', 'Do you think you feel down most of the time?', 'How long have you struggled with depression?', 'Is depression making you mentally slow?', 'Are you feeling that you are thinking slow?', 'Is depression biological or environmental or genetic?', 'Do you take good food?', 'Are your emotions making you physically sick?', 'What is the cause of sadness?', 'did you vomit?', 'Are you feeling sick or ill?', 'Can you describe hopelessness?'], '3': ['Do you feel rested when you wake up in the morning?', 'Do you take naps?', 'How many hours of sleep do you get at night?', 'Do you get intentional exercise?', 'Do you think your low energy is related to depression?', 'How long have you struggled with low energy?', 'Why do you feel so tired and have very little energy?', 'Do you always feel tired and have little energy?', 'Do you feel serious fatigue?', 'Do you have defficiency that causes tiredness and fatigue?', 'Do you wish you could rid of the sluggish feeling?', 'Do you wonder how you can boost your energy?', 'Do you have Vitamin D defficiency?', 'Do you search for things that give you more energy?', 'Do you feel weak all of a sudden?'], '4': ['What do you do for fun?', 'Do you have hobbies?', 'How long have you struggled with lack of interest in things you used to enjoy?', 'Do you feel little pleasure doing things you used to enjoy?', 'Are you showing any negative symptom of schizophrenia?', 'Have you ever been treated for little pleasure in doing pleasurable things?', 'What does \"lack of pleasure\" mean to you?', 'Are you not feeling happy?', 'Did you check your dopamine levels?', 'Can you tell me what negative psychotic symptoms you are facing?', 'how often you are depressed?', 'Do you feel your brain is affected?', 'Did you indulge in risky behaviors?'], '5': ['Do you normally move slowly compared to others?', 'Have you been moving more slowly than usual?', 'Are you normally fidgety or restless?', 'Have you been more fidgety or restless than usual?', 'Do you fidget when you are anxious?', 'Do you feel like talking slowly is attractive?', 'Do you feel like talking slowly is a good thing?', 'Do you think talking slow makes you less inteliigent?', 'Do you think there are negatives to speaking slowly?'], '6': ['How is your appetite?', 'Do you eat at regular times each day?', 'Do you intentionally restrict your eating?', 'Do you eat when you are hungry?', 'Do you \"comfort eat\"?', 'Do you stop eating when you are full?', 'How often do you overeat?', \"How often do you feel you don't eat enough?\", 'How long have you struggled with appetite issues?', 'Have you noticed appetite changes in response to your mood?', 'Do you have poor appetite or do you overeat?', 'Did you suddenly lose your appetite?', 'Do you feel the need to go to a doctor for loss of appetite?', 'Have you lost your appetite or feel sick when you eat?', 'Do you feel your lack of sleep affects your appetite?', 'Do you feel nauseous when you think about food?', 'Do you suffer from any particular health issues that could cause loss of appetite?', 'Do you have an eating disorder?', 'Have you undergone any test for vitamin defficiency?', '\\nDo you ever overeat or does your stomach hurt when you eat?', 'Does overeating make you gain weight?', 'Does binge eating get in the way of your diet?', 'Does your stomach ache when you eat?', 'Do you do weekend binge eating?', 'How long do your tummy aches last?', 'Do you feel like you can get your appetite back?'], '7': ['Have you had any thoughts about harming yourself?', 'Have you had any thoughts about killing yourself?', 'Do ever wish you could go to sleep and not wake up?', 'Have you ever tried to harm yourself?', 'Have you ever tried to kill yourself?', 'I think you should consult the mental health hotline here: \"Text Hello to 741741\"or contact a mental health care provider.'], '8': ['Do you have problems focusing on tasks?', 'Are you to concentrate OK when reading (like a newspaper)?', 'Are you to concentrate OK when watching a movie or TV?', 'Have you notice a decreased ability to focus or concentrate on activities?', 'How long have you struggled with focus or concentration issues?', 'Do you have trouble concentrating when reading or watching something?'], '9': ['How many hours of sleep do you get on average each night?', 'Do you have problems getting to sleep?', 'Do you have problems staying asleep?', 'Do you have issues getting up too early?', 'Do you have problems with nightmares?', 'What keeps you up?', 'What wakes you up?', 'Why do you sleep more than you need to?', 'How long have you struggled with sleep difficulties', 'How long do you stay in bed if you are having trouble falling asleep?', 'What do you do when you cant fall asleep?', 'Where you diagnosed with any sleep disorder?', 'How long does it take for someone with insomnia to fall asleep?', 'Do you wake up several times a night?', 'Do you want to know how sleep disorders diagnosed?', 'Do you take any sleep aid medication?', 'What is your age?']}\n"
     ]
    }
   ],
   "source": [
    "# 新的列名（字符串形式）\n",
    "new_columns = [str(i) for i in range(1, len(df.columns) + 1)]\n",
    "\n",
    "# 重命名列\n",
    "df.columns = new_columns\n",
    "\n",
    "# 构造结果字典（去除每列中的缺失值）\n",
    "result_dict = {col: df[col].dropna().tolist() for col in df.columns}\n",
    "\n",
    "# 打印结果\n",
    "print(result_dict)"
   ]
  },
  {
   "cell_type": "code",
   "execution_count": 1,
   "metadata": {},
   "outputs": [],
   "source": [
    "from rouge import Rouge"
   ]
  },
  {
   "cell_type": "code",
   "execution_count": 5,
   "metadata": {},
   "outputs": [],
   "source": [
    "# 初始化ROUGE评分器\n",
    "rouge = Rouge()\n",
    "scores = rouge.get_scores(\"a b cdddddddd\", \"a b ceeeeeee\")[0]"
   ]
  },
  {
   "cell_type": "code",
   "execution_count": 6,
   "metadata": {},
   "outputs": [
    {
     "data": {
      "text/plain": [
       "{'r': 0.6666666666666666, 'p': 0.6666666666666666, 'f': 0.6666666616666668}"
      ]
     },
     "execution_count": 6,
     "metadata": {},
     "output_type": "execute_result"
    }
   ],
   "source": [
    "scores['rouge-l']"
   ]
  },
  {
   "cell_type": "code",
   "execution_count": 8,
   "metadata": {},
   "outputs": [
    {
     "data": {
      "application/vnd.jupyter.widget-view+json": {
       "model_id": "c5f8b85c525e469386c85646bc1080b7",
       "version_major": 2,
       "version_minor": 0
      },
      "text/plain": [
       "tokenizer_config.json:   0%|          | 0.00/453 [00:00<?, ?B/s]"
      ]
     },
     "metadata": {},
     "output_type": "display_data"
    },
    {
     "name": "stderr",
     "output_type": "stream",
     "text": [
      "c:\\Users\\chen\\anaconda3\\envs\\llm\\lib\\site-packages\\huggingface_hub\\file_download.py:142: UserWarning: `huggingface_hub` cache-system uses symlinks by default to efficiently store duplicated files but your machine does not support them in C:\\Users\\chen\\.cache\\huggingface\\hub\\models--lucadiliello--BLEURT-20-D12. Caching files will still work but in a degraded version that might require more space on your disk. This warning can be disabled by setting the `HF_HUB_DISABLE_SYMLINKS_WARNING` environment variable. For more details, see https://huggingface.co/docs/huggingface_hub/how-to-cache#limitations.\n",
      "To support symlinks on Windows, you either need to activate Developer Mode or to run Python as an administrator. In order to activate developer mode, see this article: https://docs.microsoft.com/en-us/windows/apps/get-started/enable-your-device-for-development\n",
      "  warnings.warn(message)\n"
     ]
    },
    {
     "data": {
      "application/vnd.jupyter.widget-view+json": {
       "model_id": "baaaa4f9b5d04030b05e12898c0aa6b1",
       "version_major": 2,
       "version_minor": 0
      },
      "text/plain": [
       "special_tokens_map.json:   0%|          | 0.00/173 [00:00<?, ?B/s]"
      ]
     },
     "metadata": {},
     "output_type": "display_data"
    },
    {
     "name": "stderr",
     "output_type": "stream",
     "text": [
      "The tokenizer class you load from this checkpoint is not the same type as the class this function is called from. It may result in unexpected tokenization. \n",
      "The tokenizer class you load from this checkpoint is 'BleurtSPTokenizer'. \n",
      "The class this function is called from is 'BertTokenizer'.\n"
     ]
    },
    {
     "data": {
      "application/vnd.jupyter.widget-view+json": {
       "model_id": "70f5468bafa34a178ad6958c73041af8",
       "version_major": 2,
       "version_minor": 0
      },
      "text/plain": [
       "spm.model:   0%|          | 0.00/2.41M [00:00<?, ?B/s]"
      ]
     },
     "metadata": {},
     "output_type": "display_data"
    },
    {
     "data": {
      "application/vnd.jupyter.widget-view+json": {
       "model_id": "040aa66be8014b35a0ef6b150e935204",
       "version_major": 2,
       "version_minor": 0
      },
      "text/plain": [
       "config.json:   0%|          | 0.00/841 [00:00<?, ?B/s]"
      ]
     },
     "metadata": {},
     "output_type": "display_data"
    },
    {
     "data": {
      "application/vnd.jupyter.widget-view+json": {
       "model_id": "52d7fc0e82fe46a8be72496b20be6b19",
       "version_major": 2,
       "version_minor": 0
      },
      "text/plain": [
       "pytorch_model.bin:   0%|          | 0.00/671M [00:00<?, ?B/s]"
      ]
     },
     "metadata": {},
     "output_type": "display_data"
    },
    {
     "ename": "NameError",
     "evalue": "name 'bleurt_score' is not defined",
     "output_type": "error",
     "traceback": [
      "\u001b[1;31m---------------------------------------------------------------------------\u001b[0m",
      "\u001b[1;31mNameError\u001b[0m                                 Traceback (most recent call last)",
      "Cell \u001b[1;32mIn[8], line 6\u001b[0m\n\u001b[0;32m      4\u001b[0m bleurt_model \u001b[38;5;241m=\u001b[39m BleurtForSequenceClassification\u001b[38;5;241m.\u001b[39mfrom_pretrained(bleurt_model_name)\n\u001b[0;32m      5\u001b[0m bleurt_model\u001b[38;5;241m.\u001b[39meval()\n\u001b[1;32m----> 6\u001b[0m bleurt_scorer \u001b[38;5;241m=\u001b[39m \u001b[43mbleurt_score\u001b[49m\u001b[38;5;241m.\u001b[39mBleurtScorer(\u001b[38;5;124m\"\u001b[39m\u001b[38;5;124mbleurt-base-128\u001b[39m\u001b[38;5;124m\"\u001b[39m)\n\u001b[0;32m      7\u001b[0m scores \u001b[38;5;241m=\u001b[39m bleurt_scorer\u001b[38;5;241m.\u001b[39mcompute(predictions\u001b[38;5;241m=\u001b[39m[\u001b[38;5;124m\"\u001b[39m\u001b[38;5;124ma b cdddddddd\u001b[39m\u001b[38;5;124m\"\u001b[39m], reference\u001b[38;5;241m=\u001b[39m[\u001b[38;5;124m\"\u001b[39m\u001b[38;5;124ma b ceeeeeee\u001b[39m\u001b[38;5;124m\"\u001b[39m])[\u001b[38;5;124m'\u001b[39m\u001b[38;5;124mscores\u001b[39m\u001b[38;5;124m'\u001b[39m]\n",
      "\u001b[1;31mNameError\u001b[0m: name 'bleurt_score' is not defined"
     ]
    },
    {
     "data": {
      "application/vnd.jupyter.widget-view+json": {
       "model_id": "3d5a60abcfe5497b8328e2a484bc8419",
       "version_major": 2,
       "version_minor": 0
      },
      "text/plain": [
       "model.safetensors:   0%|          | 0.00/671M [00:00<?, ?B/s]"
      ]
     },
     "metadata": {},
     "output_type": "display_data"
    }
   ],
   "source": [
    "from bleurt_pytorch import BleurtForSequenceClassification, BleurtTokenizer\n",
    "bleurt_model_name = \"lucadiliello/BLEURT-20-D12\"\n",
    "bleurt_tokenizer = BleurtTokenizer.from_pretrained(\"lucadiliello/BLEURT-20-D12\")\n",
    "bleurt_model = BleurtForSequenceClassification.from_pretrained(\"lucadiliello/BLEURT-20-D12\")\n",
    "bleurt_model.eval()\n",
    "bleurt_scorer = bleurt_score.BleurtScorer(\"bleurt-base-128\")\n",
    "scores = bleurt_scorer.compute(predictions=[\"a b cdddddddd\"], reference=[\"a b ceeeeeee\"])['scores']"
   ]
  },
  {
   "cell_type": "code",
   "execution_count": 9,
   "metadata": {},
   "outputs": [
    {
     "name": "stderr",
     "output_type": "stream",
     "text": [
      "The tokenizer class you load from this checkpoint is not the same type as the class this function is called from. It may result in unexpected tokenization. \n",
      "The tokenizer class you load from this checkpoint is 'BleurtSPTokenizer'. \n",
      "The class this function is called from is 'BertTokenizer'.\n"
     ]
    }
   ],
   "source": [
    "import torch\n",
    "device = torch.device(\"cuda\" if torch.cuda.is_available() else \"cpu\")\n",
    "bleurt_model_name = \"lucadiliello/BLEURT-20-D12\"\n",
    "bleurt_tokenizer = BleurtTokenizer.from_pretrained(bleurt_model_name)\n",
    "bleurt_model = BleurtForSequenceClassification.from_pretrained(bleurt_model_name)\n",
    "bleurt_model = bleurt_model.to(device)\n",
    "bleurt_model.eval()\n",
    "with torch.no_grad():\n",
    "    inputs = bleurt_tokenizer([\"a bird chirps by the window\", \"this is a random sentence\"],  [\"a bird chirps by the window\", \"this looks like a random sentence\"], padding=True, return_tensors='pt')\n",
    "    inputs = {k: v.to(device) for k, v in inputs.items()}\n",
    "    # 计算BLEURT分数\n",
    "    logits = bleurt_model(**inputs).logits"
   ]
  },
  {
   "cell_type": "code",
   "execution_count": 10,
   "metadata": {},
   "outputs": [
    {
     "data": {
      "text/plain": [
       "tensor([[0.9604],\n",
       "        [0.8080]], device='cuda:0')"
      ]
     },
     "execution_count": 10,
     "metadata": {},
     "output_type": "execute_result"
    }
   ],
   "source": [
    "logits"
   ]
  },
  {
   "cell_type": "code",
   "execution_count": null,
   "metadata": {},
   "outputs": [],
   "source": [
    "from bleurt_pytorch import BleurtForSequenceClassification, BleurtTokenizer\n",
    "bleurt_model_name = \"snapshots/90ce39a8ceb3b9a046a7788f0005572301c3fe67\"\n",
    "bleurt_tokenizer = BleurtTokenizer.from_pretrained(bleurt_model_name)\n",
    "bleurt_model = BleurtForSequenceClassification.from_pretrained(bleurt_model_name)\n",
    "\n"
   ]
  },
  {
   "cell_type": "code",
   "execution_count": 20,
   "metadata": {},
   "outputs": [],
   "source": [
    "t5_dataset_path = \"./dataset/processed_t5_datasets/train/t5_dataset_map_number.json\"\n",
    "\n",
    "import json\n",
    "    \n",
    "with open(t5_dataset_path, 'r', encoding='utf-8') as f:\n",
    "    t5_dataset = json.load(f)"
   ]
  },
  {
   "cell_type": "code",
   "execution_count": 21,
   "metadata": {},
   "outputs": [],
   "source": [
    "questions143_map_path = \"./dataset/questions143_map_number.json\"\n",
    "\n",
    "# 加载数据\n",
    "with open(questions143_map_path, 'r', encoding='utf-8') as f:\n",
    "    questions143_map = json.load(f)"
   ]
  },
  {
   "cell_type": "code",
   "execution_count": 22,
   "metadata": {},
   "outputs": [
    {
     "name": "stdout",
     "output_type": "stream",
     "text": [
      "['Do you feel good about yourself?', 'Do you ever feel like a failure?', 'Do you feel like you are letting yourself down?', 'Do you feel like you have let your family down?', 'Do you have accomplishments that you are proud of?', 'How long have you struggled with feeling bad about yourself?', 'Do you wonder why you feel bad about yourself?', 'Why do you think people feel bad about themselves?', 'How do you feel when you are feeling bad?', 'Do you feel guilty everytime you spend money?', 'How do you express bad feelings to others when you do?', 'Does any person in your life make you feel bad?', 'Do you think it is okay to buy things for yourself?', 'Do you put yourself first when you make decisions?', 'Do you feel like you can survive a failure in life?', 'What do you think makes you a failure?', 'Does failure to achieve your goals affect you significantly?', 'Do you feel like it is okay to fail sometimes?', 'What do you feel is your greatest failure in recent times?', 'Do you feel like experiencing failure can help you succeed better?', 'Do you feel like you need to be comfortable with failure?', 'Do you believe that humans very often fail before succeeding?', 'How does failure affect you exactly?', 'Do you feel estranged from your parents?', 'Do you have toxic parents that affect your emotions?', 'Do you feel deeply dissapointed in yourself?', 'Do you feel like you need to cut ties with your family?']\n",
      "['What do you do for fun?', 'Do you have hobbies?', 'How long have you struggled with lack of interest in things you used to enjoy?', 'Do you feel little pleasure doing things you used to enjoy?', 'Are you showing any negative symptom of schizophrenia?', 'Have you ever been treated for little pleasure in doing pleasurable things?', 'What does \"lack of pleasure\" mean to you?', 'Are you not feeling happy?', 'Did you check your dopamine levels?', 'Can you tell me what negative psychotic symptoms you are facing?', 'how often you are depressed?', 'Do you feel your brain is affected?', 'Did you indulge in risky behaviors?']\n",
      "['Do you normally move slowly compared to others?', 'Have you been moving more slowly than usual?', 'Are you normally fidgety or restless?', 'Have you been more fidgety or restless than usual?', 'Do you fidget when you are anxious?', 'Do you feel like talking slowly is attractive?', 'Do you feel like talking slowly is a good thing?', 'Do you think talking slow makes you less inteliigent?', 'Do you think there are negatives to speaking slowly?']\n",
      "['How is your appetite?', 'Do you eat at regular times each day?', 'Do you intentionally restrict your eating?', 'Do you eat when you are hungry?', 'Do you \"comfort eat\"?', 'Do you stop eating when you are full?', 'How often do you overeat?', \"How often do you feel you don't eat enough?\", 'How long have you struggled with appetite issues?', 'Have you noticed appetite changes in response to your mood?', 'Do you have poor appetite or do you overeat?', 'Did you suddenly lose your appetite?', 'Do you feel the need to go to a doctor for loss of appetite?', 'Have you lost your appetite or feel sick when you eat?', 'Do you feel your lack of sleep affects your appetite?', 'Do you feel nauseous when you think about food?', 'Do you suffer from any particular health issues that could cause loss of appetite?', 'Do you have an eating disorder?', 'Have you undergone any test for vitamin defficiency?', '\\nDo you ever overeat or does your stomach hurt when you eat?', 'Does overeating make you gain weight?', 'Does binge eating get in the way of your diet?', 'Does your stomach ache when you eat?', 'Do you do weekend binge eating?', 'How long do your tummy aches last?', 'Do you feel like you can get your appetite back?']\n",
      "['Have you had any thoughts about harming yourself?', 'Have you had any thoughts about killing yourself?', 'Do ever wish you could go to sleep and not wake up?', 'Have you ever tried to harm yourself?', 'Have you ever tried to kill yourself?', 'I think you should consult the mental health hotline here: \"Text Hello to 741741\"or contact a mental health care provider.']\n",
      "['Do you have problems focusing on tasks?', 'Are you to concentrate OK when reading (like a newspaper)?', 'Are you to concentrate OK when watching a movie or TV?', 'Have you notice a decreased ability to focus or concentrate on activities?', 'How long have you struggled with focus or concentration issues?', 'Do you have trouble concentrating when reading or watching something?']\n",
      "['Do you think you might be depressed?', 'Do you feel sad a lot of the time?', 'Do you ever feel hopeless?', 'Do you have hope?', 'Do you think you feel down most of the time?', 'How long have you struggled with depression?', 'Is depression making you mentally slow?', 'Are you feeling that you are thinking slow?', 'Is depression biological or environmental or genetic?', 'Do you take good food?', 'Are your emotions making you physically sick?', 'What is the cause of sadness?', 'did you vomit?', 'Are you feeling sick or ill?', 'Can you describe hopelessness?']\n",
      "['Do you feel rested when you wake up in the morning?', 'Do you take naps?', 'How many hours of sleep do you get at night?', 'Do you get intentional exercise?', 'Do you think your low energy is related to depression?', 'How long have you struggled with low energy?', 'Why do you feel so tired and have very little energy?', 'Do you always feel tired and have little energy?', 'Do you feel serious fatigue?', 'Do you have defficiency that causes tiredness and fatigue?', 'Do you wish you could rid of the sluggish feeling?', 'Do you wonder how you can boost your energy?', 'Do you have Vitamin D defficiency?', 'Do you search for things that give you more energy?', 'Do you feel weak all of a sudden?']\n",
      "['Do you normally move slowly compared to others?', 'Have you been moving more slowly than usual?', 'Are you normally fidgety or restless?', 'Have you been more fidgety or restless than usual?', 'Do you fidget when you are anxious?', 'Do you feel like talking slowly is attractive?', 'Do you feel like talking slowly is a good thing?', 'Do you think talking slow makes you less inteliigent?', 'Do you think there are negatives to speaking slowly?']\n",
      "['How is your appetite?', 'Do you eat at regular times each day?', 'Do you intentionally restrict your eating?', 'Do you eat when you are hungry?', 'Do you \"comfort eat\"?', 'Do you stop eating when you are full?', 'How often do you overeat?', \"How often do you feel you don't eat enough?\", 'How long have you struggled with appetite issues?', 'Have you noticed appetite changes in response to your mood?', 'Do you have poor appetite or do you overeat?', 'Did you suddenly lose your appetite?', 'Do you feel the need to go to a doctor for loss of appetite?', 'Have you lost your appetite or feel sick when you eat?', 'Do you feel your lack of sleep affects your appetite?', 'Do you feel nauseous when you think about food?', 'Do you suffer from any particular health issues that could cause loss of appetite?', 'Do you have an eating disorder?', 'Have you undergone any test for vitamin defficiency?', '\\nDo you ever overeat or does your stomach hurt when you eat?', 'Does overeating make you gain weight?', 'Does binge eating get in the way of your diet?', 'Does your stomach ache when you eat?', 'Do you do weekend binge eating?', 'How long do your tummy aches last?', 'Do you feel like you can get your appetite back?']\n",
      "['Have you had any thoughts about harming yourself?', 'Have you had any thoughts about killing yourself?', 'Do ever wish you could go to sleep and not wake up?', 'Have you ever tried to harm yourself?', 'Have you ever tried to kill yourself?', 'I think you should consult the mental health hotline here: \"Text Hello to 741741\"or contact a mental health care provider.']\n",
      "['Do you have problems focusing on tasks?', 'Are you to concentrate OK when reading (like a newspaper)?', 'Are you to concentrate OK when watching a movie or TV?', 'Have you notice a decreased ability to focus or concentrate on activities?', 'How long have you struggled with focus or concentration issues?', 'Do you have trouble concentrating when reading or watching something?']\n",
      "['What do you do for fun?', 'Do you have hobbies?', 'How long have you struggled with lack of interest in things you used to enjoy?', 'Do you feel little pleasure doing things you used to enjoy?', 'Are you showing any negative symptom of schizophrenia?', 'Have you ever been treated for little pleasure in doing pleasurable things?', 'What does \"lack of pleasure\" mean to you?', 'Are you not feeling happy?', 'Did you check your dopamine levels?', 'Can you tell me what negative psychotic symptoms you are facing?', 'how often you are depressed?', 'Do you feel your brain is affected?', 'Did you indulge in risky behaviors?']\n",
      "['Do you normally move slowly compared to others?', 'Have you been moving more slowly than usual?', 'Are you normally fidgety or restless?', 'Have you been more fidgety or restless than usual?', 'Do you fidget when you are anxious?', 'Do you feel like talking slowly is attractive?', 'Do you feel like talking slowly is a good thing?', 'Do you think talking slow makes you less inteliigent?', 'Do you think there are negatives to speaking slowly?']\n",
      "['Have you had any thoughts about harming yourself?', 'Have you had any thoughts about killing yourself?', 'Do ever wish you could go to sleep and not wake up?', 'Have you ever tried to harm yourself?', 'Have you ever tried to kill yourself?', 'I think you should consult the mental health hotline here: \"Text Hello to 741741\"or contact a mental health care provider.']\n",
      "['Do you have problems focusing on tasks?', 'Are you to concentrate OK when reading (like a newspaper)?', 'Are you to concentrate OK when watching a movie or TV?', 'Have you notice a decreased ability to focus or concentrate on activities?', 'How long have you struggled with focus or concentration issues?', 'Do you have trouble concentrating when reading or watching something?']\n",
      "['What do you do for fun?', 'Do you have hobbies?', 'How long have you struggled with lack of interest in things you used to enjoy?', 'Do you feel little pleasure doing things you used to enjoy?', 'Are you showing any negative symptom of schizophrenia?', 'Have you ever been treated for little pleasure in doing pleasurable things?', 'What does \"lack of pleasure\" mean to you?', 'Are you not feeling happy?', 'Did you check your dopamine levels?', 'Can you tell me what negative psychotic symptoms you are facing?', 'how often you are depressed?', 'Do you feel your brain is affected?', 'Did you indulge in risky behaviors?']\n",
      "['Do you normally move slowly compared to others?', 'Have you been moving more slowly than usual?', 'Are you normally fidgety or restless?', 'Have you been more fidgety or restless than usual?', 'Do you fidget when you are anxious?', 'Do you feel like talking slowly is attractive?', 'Do you feel like talking slowly is a good thing?', 'Do you think talking slow makes you less inteliigent?', 'Do you think there are negatives to speaking slowly?']\n",
      "['Have you had any thoughts about harming yourself?', 'Have you had any thoughts about killing yourself?', 'Do ever wish you could go to sleep and not wake up?', 'Have you ever tried to harm yourself?', 'Have you ever tried to kill yourself?', 'I think you should consult the mental health hotline here: \"Text Hello to 741741\"or contact a mental health care provider.']\n",
      "['Do you have problems focusing on tasks?', 'Are you to concentrate OK when reading (like a newspaper)?', 'Are you to concentrate OK when watching a movie or TV?', 'Have you notice a decreased ability to focus or concentrate on activities?', 'How long have you struggled with focus or concentration issues?', 'Do you have trouble concentrating when reading or watching something?']\n",
      "['What do you do for fun?', 'Do you have hobbies?', 'How long have you struggled with lack of interest in things you used to enjoy?', 'Do you feel little pleasure doing things you used to enjoy?', 'Are you showing any negative symptom of schizophrenia?', 'Have you ever been treated for little pleasure in doing pleasurable things?', 'What does \"lack of pleasure\" mean to you?', 'Are you not feeling happy?', 'Did you check your dopamine levels?', 'Can you tell me what negative psychotic symptoms you are facing?', 'how often you are depressed?', 'Do you feel your brain is affected?', 'Did you indulge in risky behaviors?']\n",
      "['Do you normally move slowly compared to others?', 'Have you been moving more slowly than usual?', 'Are you normally fidgety or restless?', 'Have you been more fidgety or restless than usual?', 'Do you fidget when you are anxious?', 'Do you feel like talking slowly is attractive?', 'Do you feel like talking slowly is a good thing?', 'Do you think talking slow makes you less inteliigent?', 'Do you think there are negatives to speaking slowly?']\n",
      "['Have you had any thoughts about harming yourself?', 'Have you had any thoughts about killing yourself?', 'Do ever wish you could go to sleep and not wake up?', 'Have you ever tried to harm yourself?', 'Have you ever tried to kill yourself?', 'I think you should consult the mental health hotline here: \"Text Hello to 741741\"or contact a mental health care provider.']\n",
      "['Do you have problems focusing on tasks?', 'Are you to concentrate OK when reading (like a newspaper)?', 'Are you to concentrate OK when watching a movie or TV?', 'Have you notice a decreased ability to focus or concentrate on activities?', 'How long have you struggled with focus or concentration issues?', 'Do you have trouble concentrating when reading or watching something?']\n",
      "['What do you do for fun?', 'Do you have hobbies?', 'How long have you struggled with lack of interest in things you used to enjoy?', 'Do you feel little pleasure doing things you used to enjoy?', 'Are you showing any negative symptom of schizophrenia?', 'Have you ever been treated for little pleasure in doing pleasurable things?', 'What does \"lack of pleasure\" mean to you?', 'Are you not feeling happy?', 'Did you check your dopamine levels?', 'Can you tell me what negative psychotic symptoms you are facing?', 'how often you are depressed?', 'Do you feel your brain is affected?', 'Did you indulge in risky behaviors?']\n",
      "['Do you normally move slowly compared to others?', 'Have you been moving more slowly than usual?', 'Are you normally fidgety or restless?', 'Have you been more fidgety or restless than usual?', 'Do you fidget when you are anxious?', 'Do you feel like talking slowly is attractive?', 'Do you feel like talking slowly is a good thing?', 'Do you think talking slow makes you less inteliigent?', 'Do you think there are negatives to speaking slowly?']\n",
      "['Have you had any thoughts about harming yourself?', 'Have you had any thoughts about killing yourself?', 'Do ever wish you could go to sleep and not wake up?', 'Have you ever tried to harm yourself?', 'Have you ever tried to kill yourself?', 'I think you should consult the mental health hotline here: \"Text Hello to 741741\"or contact a mental health care provider.']\n",
      "['Do you have problems focusing on tasks?', 'Are you to concentrate OK when reading (like a newspaper)?', 'Are you to concentrate OK when watching a movie or TV?', 'Have you notice a decreased ability to focus or concentrate on activities?', 'How long have you struggled with focus or concentration issues?', 'Do you have trouble concentrating when reading or watching something?']\n",
      "['Do you think you might be depressed?', 'Do you feel sad a lot of the time?', 'Do you ever feel hopeless?', 'Do you have hope?', 'Do you think you feel down most of the time?', 'How long have you struggled with depression?', 'Is depression making you mentally slow?', 'Are you feeling that you are thinking slow?', 'Is depression biological or environmental or genetic?', 'Do you take good food?', 'Are your emotions making you physically sick?', 'What is the cause of sadness?', 'did you vomit?', 'Are you feeling sick or ill?', 'Can you describe hopelessness?']\n",
      "['Do you feel rested when you wake up in the morning?', 'Do you take naps?', 'How many hours of sleep do you get at night?', 'Do you get intentional exercise?', 'Do you think your low energy is related to depression?', 'How long have you struggled with low energy?', 'Why do you feel so tired and have very little energy?', 'Do you always feel tired and have little energy?', 'Do you feel serious fatigue?', 'Do you have defficiency that causes tiredness and fatigue?', 'Do you wish you could rid of the sluggish feeling?', 'Do you wonder how you can boost your energy?', 'Do you have Vitamin D defficiency?', 'Do you search for things that give you more energy?', 'Do you feel weak all of a sudden?']\n",
      "['What do you do for fun?', 'Do you have hobbies?', 'How long have you struggled with lack of interest in things you used to enjoy?', 'Do you feel little pleasure doing things you used to enjoy?', 'Are you showing any negative symptom of schizophrenia?', 'Have you ever been treated for little pleasure in doing pleasurable things?', 'What does \"lack of pleasure\" mean to you?', 'Are you not feeling happy?', 'Did you check your dopamine levels?', 'Can you tell me what negative psychotic symptoms you are facing?', 'how often you are depressed?', 'Do you feel your brain is affected?', 'Did you indulge in risky behaviors?']\n",
      "['Do you normally move slowly compared to others?', 'Have you been moving more slowly than usual?', 'Are you normally fidgety or restless?', 'Have you been more fidgety or restless than usual?', 'Do you fidget when you are anxious?', 'Do you feel like talking slowly is attractive?', 'Do you feel like talking slowly is a good thing?', 'Do you think talking slow makes you less inteliigent?', 'Do you think there are negatives to speaking slowly?']\n",
      "['Have you had any thoughts about harming yourself?', 'Have you had any thoughts about killing yourself?', 'Do ever wish you could go to sleep and not wake up?', 'Have you ever tried to harm yourself?', 'Have you ever tried to kill yourself?', 'I think you should consult the mental health hotline here: \"Text Hello to 741741\"or contact a mental health care provider.']\n",
      "['Do you have problems focusing on tasks?', 'Are you to concentrate OK when reading (like a newspaper)?', 'Are you to concentrate OK when watching a movie or TV?', 'Have you notice a decreased ability to focus or concentrate on activities?', 'How long have you struggled with focus or concentration issues?', 'Do you have trouble concentrating when reading or watching something?']\n",
      "['Do you think you might be depressed?', 'Do you feel sad a lot of the time?', 'Do you ever feel hopeless?', 'Do you have hope?', 'Do you think you feel down most of the time?', 'How long have you struggled with depression?', 'Is depression making you mentally slow?', 'Are you feeling that you are thinking slow?', 'Is depression biological or environmental or genetic?', 'Do you take good food?', 'Are your emotions making you physically sick?', 'What is the cause of sadness?', 'did you vomit?', 'Are you feeling sick or ill?', 'Can you describe hopelessness?']\n",
      "['Do you feel rested when you wake up in the morning?', 'Do you take naps?', 'How many hours of sleep do you get at night?', 'Do you get intentional exercise?', 'Do you think your low energy is related to depression?', 'How long have you struggled with low energy?', 'Why do you feel so tired and have very little energy?', 'Do you always feel tired and have little energy?', 'Do you feel serious fatigue?', 'Do you have defficiency that causes tiredness and fatigue?', 'Do you wish you could rid of the sluggish feeling?', 'Do you wonder how you can boost your energy?', 'Do you have Vitamin D defficiency?', 'Do you search for things that give you more energy?', 'Do you feel weak all of a sudden?']\n",
      "['What do you do for fun?', 'Do you have hobbies?', 'How long have you struggled with lack of interest in things you used to enjoy?', 'Do you feel little pleasure doing things you used to enjoy?', 'Are you showing any negative symptom of schizophrenia?', 'Have you ever been treated for little pleasure in doing pleasurable things?', 'What does \"lack of pleasure\" mean to you?', 'Are you not feeling happy?', 'Did you check your dopamine levels?', 'Can you tell me what negative psychotic symptoms you are facing?', 'how often you are depressed?', 'Do you feel your brain is affected?', 'Did you indulge in risky behaviors?']\n",
      "['Do you normally move slowly compared to others?', 'Have you been moving more slowly than usual?', 'Are you normally fidgety or restless?', 'Have you been more fidgety or restless than usual?', 'Do you fidget when you are anxious?', 'Do you feel like talking slowly is attractive?', 'Do you feel like talking slowly is a good thing?', 'Do you think talking slow makes you less inteliigent?', 'Do you think there are negatives to speaking slowly?']\n",
      "['How is your appetite?', 'Do you eat at regular times each day?', 'Do you intentionally restrict your eating?', 'Do you eat when you are hungry?', 'Do you \"comfort eat\"?', 'Do you stop eating when you are full?', 'How often do you overeat?', \"How often do you feel you don't eat enough?\", 'How long have you struggled with appetite issues?', 'Have you noticed appetite changes in response to your mood?', 'Do you have poor appetite or do you overeat?', 'Did you suddenly lose your appetite?', 'Do you feel the need to go to a doctor for loss of appetite?', 'Have you lost your appetite or feel sick when you eat?', 'Do you feel your lack of sleep affects your appetite?', 'Do you feel nauseous when you think about food?', 'Do you suffer from any particular health issues that could cause loss of appetite?', 'Do you have an eating disorder?', 'Have you undergone any test for vitamin defficiency?', '\\nDo you ever overeat or does your stomach hurt when you eat?', 'Does overeating make you gain weight?', 'Does binge eating get in the way of your diet?', 'Does your stomach ache when you eat?', 'Do you do weekend binge eating?', 'How long do your tummy aches last?', 'Do you feel like you can get your appetite back?']\n",
      "['Have you had any thoughts about harming yourself?', 'Have you had any thoughts about killing yourself?', 'Do ever wish you could go to sleep and not wake up?', 'Have you ever tried to harm yourself?', 'Have you ever tried to kill yourself?', 'I think you should consult the mental health hotline here: \"Text Hello to 741741\"or contact a mental health care provider.']\n",
      "['Do you have problems focusing on tasks?', 'Are you to concentrate OK when reading (like a newspaper)?', 'Are you to concentrate OK when watching a movie or TV?', 'Have you notice a decreased ability to focus or concentrate on activities?', 'How long have you struggled with focus or concentration issues?', 'Do you have trouble concentrating when reading or watching something?']\n",
      "['Do you think you might be depressed?', 'Do you feel sad a lot of the time?', 'Do you ever feel hopeless?', 'Do you have hope?', 'Do you think you feel down most of the time?', 'How long have you struggled with depression?', 'Is depression making you mentally slow?', 'Are you feeling that you are thinking slow?', 'Is depression biological or environmental or genetic?', 'Do you take good food?', 'Are your emotions making you physically sick?', 'What is the cause of sadness?', 'did you vomit?', 'Are you feeling sick or ill?', 'Can you describe hopelessness?']\n",
      "['What do you do for fun?', 'Do you have hobbies?', 'How long have you struggled with lack of interest in things you used to enjoy?', 'Do you feel little pleasure doing things you used to enjoy?', 'Are you showing any negative symptom of schizophrenia?', 'Have you ever been treated for little pleasure in doing pleasurable things?', 'What does \"lack of pleasure\" mean to you?', 'Are you not feeling happy?', 'Did you check your dopamine levels?', 'Can you tell me what negative psychotic symptoms you are facing?', 'how often you are depressed?', 'Do you feel your brain is affected?', 'Did you indulge in risky behaviors?']\n",
      "['Do you normally move slowly compared to others?', 'Have you been moving more slowly than usual?', 'Are you normally fidgety or restless?', 'Have you been more fidgety or restless than usual?', 'Do you fidget when you are anxious?', 'Do you feel like talking slowly is attractive?', 'Do you feel like talking slowly is a good thing?', 'Do you think talking slow makes you less inteliigent?', 'Do you think there are negatives to speaking slowly?']\n",
      "['How is your appetite?', 'Do you eat at regular times each day?', 'Do you intentionally restrict your eating?', 'Do you eat when you are hungry?', 'Do you \"comfort eat\"?', 'Do you stop eating when you are full?', 'How often do you overeat?', \"How often do you feel you don't eat enough?\", 'How long have you struggled with appetite issues?', 'Have you noticed appetite changes in response to your mood?', 'Do you have poor appetite or do you overeat?', 'Did you suddenly lose your appetite?', 'Do you feel the need to go to a doctor for loss of appetite?', 'Have you lost your appetite or feel sick when you eat?', 'Do you feel your lack of sleep affects your appetite?', 'Do you feel nauseous when you think about food?', 'Do you suffer from any particular health issues that could cause loss of appetite?', 'Do you have an eating disorder?', 'Have you undergone any test for vitamin defficiency?', '\\nDo you ever overeat or does your stomach hurt when you eat?', 'Does overeating make you gain weight?', 'Does binge eating get in the way of your diet?', 'Does your stomach ache when you eat?', 'Do you do weekend binge eating?', 'How long do your tummy aches last?', 'Do you feel like you can get your appetite back?']\n",
      "['Have you had any thoughts about harming yourself?', 'Have you had any thoughts about killing yourself?', 'Do ever wish you could go to sleep and not wake up?', 'Have you ever tried to harm yourself?', 'Have you ever tried to kill yourself?', 'I think you should consult the mental health hotline here: \"Text Hello to 741741\"or contact a mental health care provider.']\n",
      "['Do you have problems focusing on tasks?', 'Are you to concentrate OK when reading (like a newspaper)?', 'Are you to concentrate OK when watching a movie or TV?', 'Have you notice a decreased ability to focus or concentrate on activities?', 'How long have you struggled with focus or concentration issues?', 'Do you have trouble concentrating when reading or watching something?']\n",
      "['Do you think you might be depressed?', 'Do you feel sad a lot of the time?', 'Do you ever feel hopeless?', 'Do you have hope?', 'Do you think you feel down most of the time?', 'How long have you struggled with depression?', 'Is depression making you mentally slow?', 'Are you feeling that you are thinking slow?', 'Is depression biological or environmental or genetic?', 'Do you take good food?', 'Are your emotions making you physically sick?', 'What is the cause of sadness?', 'did you vomit?', 'Are you feeling sick or ill?', 'Can you describe hopelessness?']\n",
      "['What do you do for fun?', 'Do you have hobbies?', 'How long have you struggled with lack of interest in things you used to enjoy?', 'Do you feel little pleasure doing things you used to enjoy?', 'Are you showing any negative symptom of schizophrenia?', 'Have you ever been treated for little pleasure in doing pleasurable things?', 'What does \"lack of pleasure\" mean to you?', 'Are you not feeling happy?', 'Did you check your dopamine levels?', 'Can you tell me what negative psychotic symptoms you are facing?', 'how often you are depressed?', 'Do you feel your brain is affected?', 'Did you indulge in risky behaviors?']\n",
      "['Do you normally move slowly compared to others?', 'Have you been moving more slowly than usual?', 'Are you normally fidgety or restless?', 'Have you been more fidgety or restless than usual?', 'Do you fidget when you are anxious?', 'Do you feel like talking slowly is attractive?', 'Do you feel like talking slowly is a good thing?', 'Do you think talking slow makes you less inteliigent?', 'Do you think there are negatives to speaking slowly?']\n",
      "['How is your appetite?', 'Do you eat at regular times each day?', 'Do you intentionally restrict your eating?', 'Do you eat when you are hungry?', 'Do you \"comfort eat\"?', 'Do you stop eating when you are full?', 'How often do you overeat?', \"How often do you feel you don't eat enough?\", 'How long have you struggled with appetite issues?', 'Have you noticed appetite changes in response to your mood?', 'Do you have poor appetite or do you overeat?', 'Did you suddenly lose your appetite?', 'Do you feel the need to go to a doctor for loss of appetite?', 'Have you lost your appetite or feel sick when you eat?', 'Do you feel your lack of sleep affects your appetite?', 'Do you feel nauseous when you think about food?', 'Do you suffer from any particular health issues that could cause loss of appetite?', 'Do you have an eating disorder?', 'Have you undergone any test for vitamin defficiency?', '\\nDo you ever overeat or does your stomach hurt when you eat?', 'Does overeating make you gain weight?', 'Does binge eating get in the way of your diet?', 'Does your stomach ache when you eat?', 'Do you do weekend binge eating?', 'How long do your tummy aches last?', 'Do you feel like you can get your appetite back?']\n",
      "['Have you had any thoughts about harming yourself?', 'Have you had any thoughts about killing yourself?', 'Do ever wish you could go to sleep and not wake up?', 'Have you ever tried to harm yourself?', 'Have you ever tried to kill yourself?', 'I think you should consult the mental health hotline here: \"Text Hello to 741741\"or contact a mental health care provider.']\n",
      "['Do you have problems focusing on tasks?', 'Are you to concentrate OK when reading (like a newspaper)?', 'Are you to concentrate OK when watching a movie or TV?', 'Have you notice a decreased ability to focus or concentrate on activities?', 'How long have you struggled with focus or concentration issues?', 'Do you have trouble concentrating when reading or watching something?']\n"
     ]
    },
    {
     "ename": "",
     "evalue": "",
     "output_type": "error",
     "traceback": [
      "\u001b[1;31m在当前单元格或上一个单元格中执行代码时 Kernel 崩溃。\n",
      "\u001b[1;31m请查看单元格中的代码，以确定故障的可能原因。\n",
      "\u001b[1;31m单击<a href='https://aka.ms/vscodeJupyterKernelCrash'>此处</a>了解详细信息。\n",
      "\u001b[1;31m有关更多详细信息，请查看 Jupyter <a href='command:jupyter.viewOutput'>log</a>。"
     ]
    }
   ],
   "source": [
    "t5_dataset = t5_dataset[:10]\n",
    "for item in t5_dataset:\n",
    "    for key in item['y']:\n",
    "        if str(key) in questions143_map:\n",
    "            print(questions143_map[str(key)])"
   ]
  },
  {
   "cell_type": "code",
   "execution_count": 19,
   "metadata": {},
   "outputs": [
    {
     "data": {
      "text/plain": [
       "{'1': ['Do you feel good about yourself?',\n",
       "  'Do you ever feel like a failure?',\n",
       "  'Do you feel like you are letting yourself down?',\n",
       "  'Do you feel like you have let your family down?',\n",
       "  'Do you have accomplishments that you are proud of?',\n",
       "  'How long have you struggled with feeling bad about yourself?',\n",
       "  'Do you wonder why you feel bad about yourself?',\n",
       "  'Why do you think people feel bad about themselves?',\n",
       "  'How do you feel when you are feeling bad?',\n",
       "  'Do you feel guilty everytime you spend money?',\n",
       "  'How do you express bad feelings to others when you do?',\n",
       "  'Does any person in your life make you feel bad?',\n",
       "  'Do you think it is okay to buy things for yourself?',\n",
       "  'Do you put yourself first when you make decisions?',\n",
       "  'Do you feel like you can survive a failure in life?',\n",
       "  'What do you think makes you a failure?',\n",
       "  'Does failure to achieve your goals affect you significantly?',\n",
       "  'Do you feel like it is okay to fail sometimes?',\n",
       "  'What do you feel is your greatest failure in recent times?',\n",
       "  'Do you feel like experiencing failure can help you succeed better?',\n",
       "  'Do you feel like you need to be comfortable with failure?',\n",
       "  'Do you believe that humans very often fail before succeeding?',\n",
       "  'How does failure affect you exactly?',\n",
       "  'Do you feel estranged from your parents?',\n",
       "  'Do you have toxic parents that affect your emotions?',\n",
       "  'Do you feel deeply dissapointed in yourself?',\n",
       "  'Do you feel like you need to cut ties with your family?'],\n",
       " '2': ['Do you think you might be depressed?',\n",
       "  'Do you feel sad a lot of the time?',\n",
       "  'Do you ever feel hopeless?',\n",
       "  'Do you have hope?',\n",
       "  'Do you think you feel down most of the time?',\n",
       "  'How long have you struggled with depression?',\n",
       "  'Is depression making you mentally slow?',\n",
       "  'Are you feeling that you are thinking slow?',\n",
       "  'Is depression biological or environmental or genetic?',\n",
       "  'Do you take good food?',\n",
       "  'Are your emotions making you physically sick?',\n",
       "  'What is the cause of sadness?',\n",
       "  'did you vomit?',\n",
       "  'Are you feeling sick or ill?',\n",
       "  'Can you describe hopelessness?'],\n",
       " '3': ['Do you feel rested when you wake up in the morning?',\n",
       "  'Do you take naps?',\n",
       "  'How many hours of sleep do you get at night?',\n",
       "  'Do you get intentional exercise?',\n",
       "  'Do you think your low energy is related to depression?',\n",
       "  'How long have you struggled with low energy?',\n",
       "  'Why do you feel so tired and have very little energy?',\n",
       "  'Do you always feel tired and have little energy?',\n",
       "  'Do you feel serious fatigue?',\n",
       "  'Do you have defficiency that causes tiredness and fatigue?',\n",
       "  'Do you wish you could rid of the sluggish feeling?',\n",
       "  'Do you wonder how you can boost your energy?',\n",
       "  'Do you have Vitamin D defficiency?',\n",
       "  'Do you search for things that give you more energy?',\n",
       "  'Do you feel weak all of a sudden?'],\n",
       " '4': ['What do you do for fun?',\n",
       "  'Do you have hobbies?',\n",
       "  'How long have you struggled with lack of interest in things you used to enjoy?',\n",
       "  'Do you feel little pleasure doing things you used to enjoy?',\n",
       "  'Are you showing any negative symptom of schizophrenia?',\n",
       "  'Have you ever been treated for little pleasure in doing pleasurable things?',\n",
       "  'What does \"lack of pleasure\" mean to you?',\n",
       "  'Are you not feeling happy?',\n",
       "  'Did you check your dopamine levels?',\n",
       "  'Can you tell me what negative psychotic symptoms you are facing?',\n",
       "  'how often you are depressed?',\n",
       "  'Do you feel your brain is affected?',\n",
       "  'Did you indulge in risky behaviors?'],\n",
       " '5': ['Do you normally move slowly compared to others?',\n",
       "  'Have you been moving more slowly than usual?',\n",
       "  'Are you normally fidgety or restless?',\n",
       "  'Have you been more fidgety or restless than usual?',\n",
       "  'Do you fidget when you are anxious?',\n",
       "  'Do you feel like talking slowly is attractive?',\n",
       "  'Do you feel like talking slowly is a good thing?',\n",
       "  'Do you think talking slow makes you less inteliigent?',\n",
       "  'Do you think there are negatives to speaking slowly?'],\n",
       " '6': ['How is your appetite?',\n",
       "  'Do you eat at regular times each day?',\n",
       "  'Do you intentionally restrict your eating?',\n",
       "  'Do you eat when you are hungry?',\n",
       "  'Do you \"comfort eat\"?',\n",
       "  'Do you stop eating when you are full?',\n",
       "  'How often do you overeat?',\n",
       "  \"How often do you feel you don't eat enough?\",\n",
       "  'How long have you struggled with appetite issues?',\n",
       "  'Have you noticed appetite changes in response to your mood?',\n",
       "  'Do you have poor appetite or do you overeat?',\n",
       "  'Did you suddenly lose your appetite?',\n",
       "  'Do you feel the need to go to a doctor for loss of appetite?',\n",
       "  'Have you lost your appetite or feel sick when you eat?',\n",
       "  'Do you feel your lack of sleep affects your appetite?',\n",
       "  'Do you feel nauseous when you think about food?',\n",
       "  'Do you suffer from any particular health issues that could cause loss of appetite?',\n",
       "  'Do you have an eating disorder?',\n",
       "  'Have you undergone any test for vitamin defficiency?',\n",
       "  '\\nDo you ever overeat or does your stomach hurt when you eat?',\n",
       "  'Does overeating make you gain weight?',\n",
       "  'Does binge eating get in the way of your diet?',\n",
       "  'Does your stomach ache when you eat?',\n",
       "  'Do you do weekend binge eating?',\n",
       "  'How long do your tummy aches last?',\n",
       "  'Do you feel like you can get your appetite back?'],\n",
       " '7': ['Have you had any thoughts about harming yourself?',\n",
       "  'Have you had any thoughts about killing yourself?',\n",
       "  'Do ever wish you could go to sleep and not wake up?',\n",
       "  'Have you ever tried to harm yourself?',\n",
       "  'Have you ever tried to kill yourself?',\n",
       "  'I think you should consult the mental health hotline here: \"Text Hello to 741741\"or contact a mental health care provider.'],\n",
       " '8': ['Do you have problems focusing on tasks?',\n",
       "  'Are you to concentrate OK when reading (like a newspaper)?',\n",
       "  'Are you to concentrate OK when watching a movie or TV?',\n",
       "  'Have you notice a decreased ability to focus or concentrate on activities?',\n",
       "  'How long have you struggled with focus or concentration issues?',\n",
       "  'Do you have trouble concentrating when reading or watching something?'],\n",
       " '9': ['How many hours of sleep do you get on average each night?',\n",
       "  'Do you have problems getting to sleep?',\n",
       "  'Do you have problems staying asleep?',\n",
       "  'Do you have issues getting up too early?',\n",
       "  'Do you have problems with nightmares?',\n",
       "  'What keeps you up?',\n",
       "  'What wakes you up?',\n",
       "  'Why do you sleep more than you need to?',\n",
       "  'How long have you struggled with sleep difficulties',\n",
       "  'How long do you stay in bed if you are having trouble falling asleep?',\n",
       "  'What do you do when you cant fall asleep?',\n",
       "  'Where you diagnosed with any sleep disorder?',\n",
       "  'How long does it take for someone with insomnia to fall asleep?',\n",
       "  'Do you wake up several times a night?',\n",
       "  'Do you want to know how sleep disorders diagnosed?',\n",
       "  'Do you take any sleep aid medication?',\n",
       "  'What is your age?']}"
      ]
     },
     "execution_count": 19,
     "metadata": {},
     "output_type": "execute_result"
    }
   ],
   "source": [
    "questions143_map"
   ]
  },
  {
   "cell_type": "code",
   "execution_count": null,
   "metadata": {},
   "outputs": [],
   "source": []
  }
 ],
 "metadata": {
  "kernelspec": {
   "display_name": "llm",
   "language": "python",
   "name": "python3"
  },
  "language_info": {
   "codemirror_mode": {
    "name": "ipython",
    "version": 3
   },
   "file_extension": ".py",
   "mimetype": "text/x-python",
   "name": "python",
   "nbconvert_exporter": "python",
   "pygments_lexer": "ipython3",
   "version": "3.9.21"
  }
 },
 "nbformat": 4,
 "nbformat_minor": 2
}
